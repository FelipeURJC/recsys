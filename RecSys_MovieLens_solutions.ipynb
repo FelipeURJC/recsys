{
 "cells": [
  {
   "cell_type": "markdown",
   "metadata": {},
   "source": [
    "# Recommender systems\n",
    "\n",
    "This notebook, by [felipe.alonso@bbva.com](mailto:felipe.alonso@bbva.com) \n",
    "(last version: v4. 09/02/2020)\n",
    "\n",
    "## Table of Contents\n",
    "\n",
    "1. [Gathering and analysing data](#load_data) \n",
    "2. [Most popular movies](#popular)\n",
    "3. [Collaborative Filtering](#cf)  \n",
    "4. [Latent Factor Models](#lfm)  \n",
    "5. [Exercises (advanced)](#exercises)"
   ]
  },
  {
   "cell_type": "code",
   "execution_count": 1,
   "metadata": {},
   "outputs": [],
   "source": [
    "import numpy as np\n",
    "import pandas as pd\n",
    "import datetime\n",
    "\n",
    "import matplotlib.pyplot as plt\n",
    "%matplotlib inline"
   ]
  },
  {
   "cell_type": "markdown",
   "metadata": {},
   "source": [
    "---\n",
    "\n",
    "<a id='load_data'></a>\n",
    "# 1. Load data\n",
    "\n",
    "We will use one the [MovieLens datasets](https://grouplens.org/datasets/movielens/), which consitutes one of the most common datasets for implementing and testing recommender engines. Specifically, we will be using the [Lastest Dataset](https://grouplens.org/datasets/movielens/latest/) (Small). This data set consists of:\n",
    "\n",
    "* **100836 ratings** across **9742 movies**. \n",
    "* Ratings are made on a 5-star scale, with half-star increments (0.5 stars - 5.0 stars).\n",
    "* TThese data were created by **610 users** between March 29, 1996 and September 24, 2018. This dataset was generated on September 26, 2018.\n",
    "* Users were selected at random for inclusion. All selected **users had rated at least 20 movies**. No demographic information is included. Each user is represented by an id, and no other information is provided.\n",
    "* The data are contained in the files `links.csv`, `movies.csv`, `ratings.csv` and `tags.csv`. \n",
    "* Only movies with at least one rating or tag are included in the dataset. \n",
    "\n",
    "For further information read the [README file](http://files.grouplens.org/datasets/movielens/ml-latest-small-README.html).\n",
    "\n",
    "## 1.1 Load ratings\n",
    "\n",
    "<div class  = \"alert alert-info\"> \n",
    "Read the file <b>ratings.csv</b> and save it into a pandas Dataframe. Data is in the path './data/ml-latest-small/' \n",
    "</div>"
   ]
  },
  {
   "cell_type": "code",
   "execution_count": 2,
   "metadata": {},
   "outputs": [
    {
     "data": {
      "text/html": [
       "<div>\n",
       "<style scoped>\n",
       "    .dataframe tbody tr th:only-of-type {\n",
       "        vertical-align: middle;\n",
       "    }\n",
       "\n",
       "    .dataframe tbody tr th {\n",
       "        vertical-align: top;\n",
       "    }\n",
       "\n",
       "    .dataframe thead th {\n",
       "        text-align: right;\n",
       "    }\n",
       "</style>\n",
       "<table border=\"1\" class=\"dataframe\">\n",
       "  <thead>\n",
       "    <tr style=\"text-align: right;\">\n",
       "      <th></th>\n",
       "      <th>userId</th>\n",
       "      <th>movieId</th>\n",
       "      <th>rating</th>\n",
       "      <th>timestamp</th>\n",
       "      <th>year</th>\n",
       "    </tr>\n",
       "  </thead>\n",
       "  <tbody>\n",
       "    <tr>\n",
       "      <th>0</th>\n",
       "      <td>1</td>\n",
       "      <td>1</td>\n",
       "      <td>4.0</td>\n",
       "      <td>964982703</td>\n",
       "      <td>2000</td>\n",
       "    </tr>\n",
       "    <tr>\n",
       "      <th>1</th>\n",
       "      <td>1</td>\n",
       "      <td>3</td>\n",
       "      <td>4.0</td>\n",
       "      <td>964981247</td>\n",
       "      <td>2000</td>\n",
       "    </tr>\n",
       "    <tr>\n",
       "      <th>2</th>\n",
       "      <td>1</td>\n",
       "      <td>6</td>\n",
       "      <td>4.0</td>\n",
       "      <td>964982224</td>\n",
       "      <td>2000</td>\n",
       "    </tr>\n",
       "    <tr>\n",
       "      <th>3</th>\n",
       "      <td>1</td>\n",
       "      <td>47</td>\n",
       "      <td>5.0</td>\n",
       "      <td>964983815</td>\n",
       "      <td>2000</td>\n",
       "    </tr>\n",
       "    <tr>\n",
       "      <th>4</th>\n",
       "      <td>1</td>\n",
       "      <td>50</td>\n",
       "      <td>5.0</td>\n",
       "      <td>964982931</td>\n",
       "      <td>2000</td>\n",
       "    </tr>\n",
       "  </tbody>\n",
       "</table>\n",
       "</div>"
      ],
      "text/plain": [
       "   userId  movieId  rating  timestamp  year\n",
       "0       1        1     4.0  964982703  2000\n",
       "1       1        3     4.0  964981247  2000\n",
       "2       1        6     4.0  964982224  2000\n",
       "3       1       47     5.0  964983815  2000\n",
       "4       1       50     5.0  964982931  2000"
      ]
     },
     "execution_count": 2,
     "metadata": {},
     "output_type": "execute_result"
    }
   ],
   "source": [
    "data_path = './data/ml-latest-small/'\n",
    "\n",
    "# Hint: pandas read_csv function might be useful\n",
    "\n",
    "df = pd.read_csv(data_path + 'ratings.csv',sep=',', decimal='.') # YOUR CODE HERE\n",
    "\n",
    "# we add a new colum, year, containing the year of the timestamp\n",
    "df['year'] = df.timestamp.apply(lambda x: datetime.datetime.fromtimestamp(x).strftime('%Y'))\n",
    "\n",
    "df.head()"
   ]
  },
  {
   "cell_type": "code",
   "execution_count": 3,
   "metadata": {},
   "outputs": [
    {
     "name": "stdout",
     "output_type": "stream",
     "text": [
      "#ratings = 100836\n",
      "#users = 610\n",
      "#movies = 9724\n"
     ]
    }
   ],
   "source": [
    "n_users = df.userId.unique().shape[0]\n",
    "n_movies = df.movieId.unique().shape[0]\n",
    "print('#ratings =', df.shape[0])\n",
    "print('#users = ' + str(n_users) + '\\n#movies = ' + str(n_movies))"
   ]
  },
  {
   "cell_type": "markdown",
   "metadata": {},
   "source": [
    "### 1.1.1 Ratings analytics\n",
    "\n",
    "Let's go deeper into our data, trying to answer questions like:\n",
    "\n",
    "1. Which is the average rating for all movies? \n",
    "2. And the distribution of ratings? \n",
    "3. And the average rating by time (years)?\n",
    "4. And the average number of rated movies per user? \n",
    "5. And the distribution of rated movies per user?\n",
    "\n",
    "<div class  = \"alert alert-info\"> \n",
    "<b> QUESTION </b>: Show (you can do some drawings if you want) some statistics to understand your data\n",
    "</div>"
   ]
  },
  {
   "cell_type": "code",
   "execution_count": 4,
   "metadata": {},
   "outputs": [
    {
     "name": "stdout",
     "output_type": "stream",
     "text": [
      "Avg. rating : 3.501556983616962\n"
     ]
    },
    {
     "data": {
      "image/png": "[encoded data removed]",
      "text/plain": [
       "<Figure size 432x288 with 1 Axes>"
      ]
     },
     "metadata": {
      "needs_background": "light"
     },
     "output_type": "display_data"
    },
    {
     "data": {
      "image/png": "[encoded data removed]",
      "text/plain": [
       "<Figure size 432x288 with 1 Axes>"
      ]
     },
     "metadata": {
      "needs_background": "light"
     },
     "output_type": "display_data"
    },
    {
     "data": {
      "image/png": "[encoded data removed]",
      "text/plain": [
       "<Figure size 432x288 with 1 Axes>"
      ]
     },
     "metadata": {
      "needs_background": "light"
     },
     "output_type": "display_data"
    }
   ],
   "source": [
    "# Let's give some metrics\n",
    "\n",
    "# 1) Average rating for all times\n",
    "avg_rating = df.rating.mean() # YOUR CODE HERE\n",
    "print('Avg. rating :', avg_rating)\n",
    "\n",
    "# 2) Rating distribution\n",
    "df.rating.hist(bins=25) # YOUR CODE HERE\n",
    "plt.show()\n",
    "\n",
    "# 3) Average rating by time\n",
    "df[['rating','year']].groupby('year').mean().plot() # YOUR CODE HERE\n",
    "plt.show()\n",
    "\n",
    "# 4) Average number of rated movies per user\n",
    "df[['userId','movieId']].groupby('userId').count().hist(bins=25, range=(0,50))\n",
    "plt.show()\n",
    "# option 2: plt.hist(np.unique(df.userId,return_counts=True)[1])"
   ]
  },
  {
   "cell_type": "markdown",
   "metadata": {},
   "source": [
    "## 1.2 Load movies"
   ]
  },
  {
   "cell_type": "code",
   "execution_count": 5,
   "metadata": {},
   "outputs": [
    {
     "name": "stdout",
     "output_type": "stream",
     "text": [
      "Number of rows:  9742\n",
      "Number of (unique) movies:  9742\n"
     ]
    },
    {
     "data": {
      "text/html": [
       "<div>\n",
       "<style scoped>\n",
       "    .dataframe tbody tr th:only-of-type {\n",
       "        vertical-align: middle;\n",
       "    }\n",
       "\n",
       "    .dataframe tbody tr th {\n",
       "        vertical-align: top;\n",
       "    }\n",
       "\n",
       "    .dataframe thead th {\n",
       "        text-align: right;\n",
       "    }\n",
       "</style>\n",
       "<table border=\"1\" class=\"dataframe\">\n",
       "  <thead>\n",
       "    <tr style=\"text-align: right;\">\n",
       "      <th></th>\n",
       "      <th>movieId</th>\n",
       "      <th>title</th>\n",
       "      <th>genres</th>\n",
       "    </tr>\n",
       "  </thead>\n",
       "  <tbody>\n",
       "    <tr>\n",
       "      <th>9737</th>\n",
       "      <td>193581</td>\n",
       "      <td>Black Butler: Book of the Atlantic (2017)</td>\n",
       "      <td>Action|Animation|Comedy|Fantasy</td>\n",
       "    </tr>\n",
       "    <tr>\n",
       "      <th>9738</th>\n",
       "      <td>193583</td>\n",
       "      <td>No Game No Life: Zero (2017)</td>\n",
       "      <td>Animation|Comedy|Fantasy</td>\n",
       "    </tr>\n",
       "    <tr>\n",
       "      <th>9739</th>\n",
       "      <td>193585</td>\n",
       "      <td>Flint (2017)</td>\n",
       "      <td>Drama</td>\n",
       "    </tr>\n",
       "    <tr>\n",
       "      <th>9740</th>\n",
       "      <td>193587</td>\n",
       "      <td>Bungo Stray Dogs: Dead Apple (2018)</td>\n",
       "      <td>Action|Animation</td>\n",
       "    </tr>\n",
       "    <tr>\n",
       "      <th>9741</th>\n",
       "      <td>193609</td>\n",
       "      <td>Andrew Dice Clay: Dice Rules (1991)</td>\n",
       "      <td>Comedy</td>\n",
       "    </tr>\n",
       "  </tbody>\n",
       "</table>\n",
       "</div>"
      ],
      "text/plain": [
       "      movieId                                      title  \\\n",
       "9737   193581  Black Butler: Book of the Atlantic (2017)   \n",
       "9738   193583               No Game No Life: Zero (2017)   \n",
       "9739   193585                               Flint (2017)   \n",
       "9740   193587        Bungo Stray Dogs: Dead Apple (2018)   \n",
       "9741   193609        Andrew Dice Clay: Dice Rules (1991)   \n",
       "\n",
       "                               genres  \n",
       "9737  Action|Animation|Comedy|Fantasy  \n",
       "9738         Animation|Comedy|Fantasy  \n",
       "9739                            Drama  \n",
       "9740                 Action|Animation  \n",
       "9741                           Comedy  "
      ]
     },
     "execution_count": 5,
     "metadata": {},
     "output_type": "execute_result"
    }
   ],
   "source": [
    "movies = pd.read_csv(data_path + 'movies.csv',sep=',')\n",
    "#movies = movies.set_index('movieId')\n",
    "\n",
    "print('Number of rows: ', movies.shape[0])\n",
    "print('Number of (unique) movies: ',len(movies.movieId.unique()))\n",
    "movies.tail()"
   ]
  },
  {
   "cell_type": "markdown",
   "metadata": {},
   "source": [
    "### 1.2.1 Duplicated movieId\n",
    "\n",
    "Unfortunately, the dataset is not completely clear. **There are a few movies with several `ids`**. Let's find them out"
   ]
  },
  {
   "cell_type": "code",
   "execution_count": 6,
   "metadata": {},
   "outputs": [
    {
     "name": "stdout",
     "output_type": "stream",
     "text": [
      "The movie: Confessions of a Dangerous Mind (2002) , has these ids:  [  6003 144606]\n",
      "The movie: Emma (1996) , has these ids:  [  838 26958]\n",
      "The movie: Eros (2004) , has these ids:  [ 32600 147002]\n",
      "The movie: War of the Worlds (2005) , has these ids:  [34048 64997]\n",
      "The movie: Saturn 3 (1980) , has these ids:  [  2851 168358]\n",
      "\n",
      "We have to remove these indexes values:  [144606, 26958, 147002, 64997, 168358]\n"
     ]
    }
   ],
   "source": [
    "n_movies_per_id = movies[['movieId','title']].groupby('title').count().sort_values('movieId',ascending=False)\n",
    "n_movies_per_id.columns = ['n_ids']\n",
    "n_movies_per_id = n_movies_per_id[n_movies_per_id.n_ids>1]\n",
    "\n",
    "movieId_to_remove = []\n",
    "for t in n_movies_per_id.index.values:\n",
    "    print('The movie:',t,', has these ids: ', movies.loc[movies.title == t].movieId.values)\n",
    "    movieId_to_remove.append(movies.loc[movies.title == t].movieId.values[-1])\n",
    "\n",
    "print(\"\\nWe have to remove these indexes values: \", movieId_to_remove)"
   ]
  },
  {
   "cell_type": "markdown",
   "metadata": {},
   "source": [
    "So we remove the `movies.title` duplicates"
   ]
  },
  {
   "cell_type": "code",
   "execution_count": 7,
   "metadata": {},
   "outputs": [
    {
     "name": "stdout",
     "output_type": "stream",
     "text": [
      "(9737, 3)\n"
     ]
    },
    {
     "data": {
      "text/html": [
       "<div>\n",
       "<style scoped>\n",
       "    .dataframe tbody tr th:only-of-type {\n",
       "        vertical-align: middle;\n",
       "    }\n",
       "\n",
       "    .dataframe tbody tr th {\n",
       "        vertical-align: top;\n",
       "    }\n",
       "\n",
       "    .dataframe thead th {\n",
       "        text-align: right;\n",
       "    }\n",
       "</style>\n",
       "<table border=\"1\" class=\"dataframe\">\n",
       "  <thead>\n",
       "    <tr style=\"text-align: right;\">\n",
       "      <th></th>\n",
       "      <th>movieId</th>\n",
       "      <th>title</th>\n",
       "      <th>genres</th>\n",
       "    </tr>\n",
       "  </thead>\n",
       "  <tbody>\n",
       "    <tr>\n",
       "      <th>9737</th>\n",
       "      <td>193581</td>\n",
       "      <td>Black Butler: Book of the Atlantic (2017)</td>\n",
       "      <td>Action|Animation|Comedy|Fantasy</td>\n",
       "    </tr>\n",
       "    <tr>\n",
       "      <th>9738</th>\n",
       "      <td>193583</td>\n",
       "      <td>No Game No Life: Zero (2017)</td>\n",
       "      <td>Animation|Comedy|Fantasy</td>\n",
       "    </tr>\n",
       "    <tr>\n",
       "      <th>9739</th>\n",
       "      <td>193585</td>\n",
       "      <td>Flint (2017)</td>\n",
       "      <td>Drama</td>\n",
       "    </tr>\n",
       "    <tr>\n",
       "      <th>9740</th>\n",
       "      <td>193587</td>\n",
       "      <td>Bungo Stray Dogs: Dead Apple (2018)</td>\n",
       "      <td>Action|Animation</td>\n",
       "    </tr>\n",
       "    <tr>\n",
       "      <th>9741</th>\n",
       "      <td>193609</td>\n",
       "      <td>Andrew Dice Clay: Dice Rules (1991)</td>\n",
       "      <td>Comedy</td>\n",
       "    </tr>\n",
       "  </tbody>\n",
       "</table>\n",
       "</div>"
      ],
      "text/plain": [
       "      movieId                                      title  \\\n",
       "9737   193581  Black Butler: Book of the Atlantic (2017)   \n",
       "9738   193583               No Game No Life: Zero (2017)   \n",
       "9739   193585                               Flint (2017)   \n",
       "9740   193587        Bungo Stray Dogs: Dead Apple (2018)   \n",
       "9741   193609        Andrew Dice Clay: Dice Rules (1991)   \n",
       "\n",
       "                               genres  \n",
       "9737  Action|Animation|Comedy|Fantasy  \n",
       "9738         Animation|Comedy|Fantasy  \n",
       "9739                            Drama  \n",
       "9740                 Action|Animation  \n",
       "9741                           Comedy  "
      ]
     },
     "execution_count": 7,
     "metadata": {},
     "output_type": "execute_result"
    }
   ],
   "source": [
    "movies = movies.drop_duplicates(subset=['title'],keep='first')\n",
    "\n",
    "print(movies.shape)\n",
    "movies.tail()"
   ]
  },
  {
   "cell_type": "markdown",
   "metadata": {},
   "source": [
    "We should remove also all entries in ratings data where `movieId == movieId_to_remov` (note that there would be other possibilities like changing the `movieId` in ratings data)"
   ]
  },
  {
   "cell_type": "code",
   "execution_count": 8,
   "metadata": {},
   "outputs": [
    {
     "name": "stdout",
     "output_type": "stream",
     "text": [
      "Number of users = 610 | Number of movies = 9719\n"
     ]
    }
   ],
   "source": [
    "df = df[~df.movieId.isin(movieId_to_remove)]\n",
    "\n",
    "n_users = df.userId.unique().shape[0]\n",
    "n_items = df.movieId.unique().shape[0]\n",
    "print('Number of users = ' + str(n_users) + ' | Number of movies = ' + str(n_items)  )"
   ]
  },
  {
   "cell_type": "markdown",
   "metadata": {},
   "source": [
    "### 1.2.2 Not rated movies\n",
    "\n",
    "As you can see, there are **9722 rated movies** (`ratings.csv`), while there are **9737 distinct movies** in the database (`movies.csv`). Let's find the list of movies that have not been rated"
   ]
  },
  {
   "cell_type": "code",
   "execution_count": 9,
   "metadata": {},
   "outputs": [
    {
     "name": "stdout",
     "output_type": "stream",
     "text": [
      "There are 18 movies with no rating, which are:\n",
      "\n",
      "movieId\t title\n",
      "[[1076 'Innocents, The (1961)']\n",
      " [2939 'Niagara (1953)']\n",
      " [3338 'For All Mankind (1989)']\n",
      " [3456 'Color of Paradise, The (Rang-e khoda) (1999)']\n",
      " [4194 \"I Know Where I'm Going! (1945)\"]\n",
      " [5721 'Chosen, The (1981)']\n",
      " [6668 'Road Home, The (Wo de fu qin mu qin) (1999)']\n",
      " [6849 'Scrooge (1970)']\n",
      " [7020 'Proof (1991)']\n",
      " [7792 'Parallax View, The (1974)']\n",
      " [8765 'This Gun for Hire (1942)']\n",
      " [25855 'Roaring Twenties, The (1939)']\n",
      " [26085 'Mutiny on the Bounty (1962)']\n",
      " [30892 'In the Realms of the Unreal (2004)']\n",
      " [32160 'Twentieth Century (1934)']\n",
      " [32371 'Call Northside 777 (1948)']\n",
      " [34482 'Browning Version, The (1951)']\n",
      " [85565 'Chalet Girl (2011)']]\n"
     ]
    }
   ],
   "source": [
    "ratedMovieIds = df.movieId.unique()\n",
    "notRatedMoviesTitles = movies.loc[~movies.movieId.isin(ratedMovieIds),['movieId','title']]\n",
    "\n",
    "print('There are', len(notRatedMoviesTitles), 'movies with no rating, which are:\\n')\n",
    "print('movieId\\t title')\n",
    "print(notRatedMoviesTitles.values)"
   ]
  },
  {
   "cell_type": "markdown",
   "metadata": {},
   "source": [
    "## 1.3 reindexing users and movies\n",
    "\n",
    "\n",
    "#### Movies Ids\n",
    "\n",
    "Let's move forward. In order to analyze the predicted recommendations, let's create a python dictonary for translating `movieId` to movie titles, and `movieId` to an integer id (`idx`). This way `idx` will vary between 0 and 9137-1 (movies in `movies.csv`)."
   ]
  },
  {
   "cell_type": "code",
   "execution_count": 10,
   "metadata": {},
   "outputs": [
    {
     "data": {
      "image/png": "[encoded data removed]",
      "text/plain": [
       "<Figure size 432x288 with 1 Axes>"
      ]
     },
     "metadata": {
      "needs_background": "light"
     },
     "output_type": "display_data"
    }
   ],
   "source": [
    "movies_id_list = np.unique(movies.movieId.values)\n",
    "\n",
    "# MovieId to idx\n",
    "movieId_to_idx = {movieId:idx for idx, movieId in enumerate(movies_id_list)}\n",
    "movies['movieIdx'] = movies['movieId'].apply(lambda x: movieId_to_idx[x])\n",
    "\n",
    "plt.scatter(movies.movieIdx,movies.movieId)\n",
    "plt.xlabel('Idx')\n",
    "plt.ylabel('MovieId')\n",
    "plt.show()"
   ]
  },
  {
   "cell_type": "code",
   "execution_count": 15,
   "metadata": {},
   "outputs": [
    {
     "data": {
      "text/html": [
       "<div>\n",
       "<style scoped>\n",
       "    .dataframe tbody tr th:only-of-type {\n",
       "        vertical-align: middle;\n",
       "    }\n",
       "\n",
       "    .dataframe tbody tr th {\n",
       "        vertical-align: top;\n",
       "    }\n",
       "\n",
       "    .dataframe thead th {\n",
       "        text-align: right;\n",
       "    }\n",
       "</style>\n",
       "<table border=\"1\" class=\"dataframe\">\n",
       "  <thead>\n",
       "    <tr style=\"text-align: right;\">\n",
       "      <th></th>\n",
       "      <th>movieId</th>\n",
       "      <th>title</th>\n",
       "      <th>genres</th>\n",
       "      <th>movieIdx</th>\n",
       "    </tr>\n",
       "  </thead>\n",
       "  <tbody>\n",
       "    <tr>\n",
       "      <th>0</th>\n",
       "      <td>1</td>\n",
       "      <td>Toy Story (1995)</td>\n",
       "      <td>Adventure|Animation|Children|Comedy|Fantasy</td>\n",
       "      <td>0</td>\n",
       "    </tr>\n",
       "    <tr>\n",
       "      <th>1</th>\n",
       "      <td>2</td>\n",
       "      <td>Jumanji (1995)</td>\n",
       "      <td>Adventure|Children|Fantasy</td>\n",
       "      <td>1</td>\n",
       "    </tr>\n",
       "    <tr>\n",
       "      <th>2</th>\n",
       "      <td>3</td>\n",
       "      <td>Grumpier Old Men (1995)</td>\n",
       "      <td>Comedy|Romance</td>\n",
       "      <td>2</td>\n",
       "    </tr>\n",
       "    <tr>\n",
       "      <th>3</th>\n",
       "      <td>4</td>\n",
       "      <td>Waiting to Exhale (1995)</td>\n",
       "      <td>Comedy|Drama|Romance</td>\n",
       "      <td>3</td>\n",
       "    </tr>\n",
       "    <tr>\n",
       "      <th>4</th>\n",
       "      <td>5</td>\n",
       "      <td>Father of the Bride Part II (1995)</td>\n",
       "      <td>Comedy</td>\n",
       "      <td>4</td>\n",
       "    </tr>\n",
       "  </tbody>\n",
       "</table>\n",
       "</div>"
      ],
      "text/plain": [
       "   movieId                               title  \\\n",
       "0        1                    Toy Story (1995)   \n",
       "1        2                      Jumanji (1995)   \n",
       "2        3             Grumpier Old Men (1995)   \n",
       "3        4            Waiting to Exhale (1995)   \n",
       "4        5  Father of the Bride Part II (1995)   \n",
       "\n",
       "                                        genres  movieIdx  \n",
       "0  Adventure|Animation|Children|Comedy|Fantasy         0  \n",
       "1                   Adventure|Children|Fantasy         1  \n",
       "2                               Comedy|Romance         2  \n",
       "3                         Comedy|Drama|Romance         3  \n",
       "4                                       Comedy         4  "
      ]
     },
     "execution_count": 15,
     "metadata": {},
     "output_type": "execute_result"
    }
   ],
   "source": [
    "# See the result\n",
    "movies.head()"
   ]
  },
  {
   "cell_type": "markdown",
   "metadata": {},
   "source": [
    "#### Modify `ratings` to include new information"
   ]
  },
  {
   "cell_type": "code",
   "execution_count": 12,
   "metadata": {},
   "outputs": [
    {
     "data": {
      "text/html": [
       "<div>\n",
       "<style scoped>\n",
       "    .dataframe tbody tr th:only-of-type {\n",
       "        vertical-align: middle;\n",
       "    }\n",
       "\n",
       "    .dataframe tbody tr th {\n",
       "        vertical-align: top;\n",
       "    }\n",
       "\n",
       "    .dataframe thead th {\n",
       "        text-align: right;\n",
       "    }\n",
       "</style>\n",
       "<table border=\"1\" class=\"dataframe\">\n",
       "  <thead>\n",
       "    <tr style=\"text-align: right;\">\n",
       "      <th></th>\n",
       "      <th>userId</th>\n",
       "      <th>movieId</th>\n",
       "      <th>rating</th>\n",
       "      <th>timestamp</th>\n",
       "      <th>year</th>\n",
       "      <th>movieIdx</th>\n",
       "      <th>title</th>\n",
       "    </tr>\n",
       "  </thead>\n",
       "  <tbody>\n",
       "    <tr>\n",
       "      <th>0</th>\n",
       "      <td>1</td>\n",
       "      <td>1</td>\n",
       "      <td>4.0</td>\n",
       "      <td>964982703</td>\n",
       "      <td>2000</td>\n",
       "      <td>0</td>\n",
       "      <td>Toy Story (1995)</td>\n",
       "    </tr>\n",
       "    <tr>\n",
       "      <th>1</th>\n",
       "      <td>1</td>\n",
       "      <td>3</td>\n",
       "      <td>4.0</td>\n",
       "      <td>964981247</td>\n",
       "      <td>2000</td>\n",
       "      <td>2</td>\n",
       "      <td>Grumpier Old Men (1995)</td>\n",
       "    </tr>\n",
       "    <tr>\n",
       "      <th>2</th>\n",
       "      <td>1</td>\n",
       "      <td>6</td>\n",
       "      <td>4.0</td>\n",
       "      <td>964982224</td>\n",
       "      <td>2000</td>\n",
       "      <td>5</td>\n",
       "      <td>Heat (1995)</td>\n",
       "    </tr>\n",
       "    <tr>\n",
       "      <th>3</th>\n",
       "      <td>1</td>\n",
       "      <td>47</td>\n",
       "      <td>5.0</td>\n",
       "      <td>964983815</td>\n",
       "      <td>2000</td>\n",
       "      <td>43</td>\n",
       "      <td>Seven (a.k.a. Se7en) (1995)</td>\n",
       "    </tr>\n",
       "    <tr>\n",
       "      <th>4</th>\n",
       "      <td>1</td>\n",
       "      <td>50</td>\n",
       "      <td>5.0</td>\n",
       "      <td>964982931</td>\n",
       "      <td>2000</td>\n",
       "      <td>46</td>\n",
       "      <td>Usual Suspects, The (1995)</td>\n",
       "    </tr>\n",
       "  </tbody>\n",
       "</table>\n",
       "</div>"
      ],
      "text/plain": [
       "   userId  movieId  rating  timestamp  year  movieIdx  \\\n",
       "0       1        1     4.0  964982703  2000         0   \n",
       "1       1        3     4.0  964981247  2000         2   \n",
       "2       1        6     4.0  964982224  2000         5   \n",
       "3       1       47     5.0  964983815  2000        43   \n",
       "4       1       50     5.0  964982931  2000        46   \n",
       "\n",
       "                         title  \n",
       "0             Toy Story (1995)  \n",
       "1      Grumpier Old Men (1995)  \n",
       "2                  Heat (1995)  \n",
       "3  Seven (a.k.a. Se7en) (1995)  \n",
       "4   Usual Suspects, The (1995)  "
      ]
     },
     "execution_count": 12,
     "metadata": {},
     "output_type": "execute_result"
    }
   ],
   "source": [
    "idx_to_title = {idx:title for idx,title in zip(movies.movieIdx.values,movies.title.values)}\n",
    "\n",
    "df['movieIdx'] = df['movieId'].apply(lambda x: movieId_to_idx[x])\n",
    "df['title'] = df['movieIdx'].apply(lambda x: idx_to_title[x])\n",
    "\n",
    "df.head()"
   ]
  },
  {
   "cell_type": "markdown",
   "metadata": {},
   "source": [
    "As we can see, `year` does not represent the year of release. Let's calculate it"
   ]
  },
  {
   "cell_type": "code",
   "execution_count": 13,
   "metadata": {},
   "outputs": [
    {
     "data": {
      "text/html": [
       "<div>\n",
       "<style scoped>\n",
       "    .dataframe tbody tr th:only-of-type {\n",
       "        vertical-align: middle;\n",
       "    }\n",
       "\n",
       "    .dataframe tbody tr th {\n",
       "        vertical-align: top;\n",
       "    }\n",
       "\n",
       "    .dataframe thead th {\n",
       "        text-align: right;\n",
       "    }\n",
       "</style>\n",
       "<table border=\"1\" class=\"dataframe\">\n",
       "  <thead>\n",
       "    <tr style=\"text-align: right;\">\n",
       "      <th></th>\n",
       "      <th>userId</th>\n",
       "      <th>movieId</th>\n",
       "      <th>rating</th>\n",
       "      <th>timestamp</th>\n",
       "      <th>year</th>\n",
       "      <th>movieIdx</th>\n",
       "      <th>title</th>\n",
       "      <th>year_release</th>\n",
       "    </tr>\n",
       "  </thead>\n",
       "  <tbody>\n",
       "    <tr>\n",
       "      <th>0</th>\n",
       "      <td>1</td>\n",
       "      <td>1</td>\n",
       "      <td>4.0</td>\n",
       "      <td>964982703</td>\n",
       "      <td>2000</td>\n",
       "      <td>0</td>\n",
       "      <td>Toy Story (1995)</td>\n",
       "      <td>1995</td>\n",
       "    </tr>\n",
       "    <tr>\n",
       "      <th>1</th>\n",
       "      <td>1</td>\n",
       "      <td>3</td>\n",
       "      <td>4.0</td>\n",
       "      <td>964981247</td>\n",
       "      <td>2000</td>\n",
       "      <td>2</td>\n",
       "      <td>Grumpier Old Men (1995)</td>\n",
       "      <td>1995</td>\n",
       "    </tr>\n",
       "    <tr>\n",
       "      <th>2</th>\n",
       "      <td>1</td>\n",
       "      <td>6</td>\n",
       "      <td>4.0</td>\n",
       "      <td>964982224</td>\n",
       "      <td>2000</td>\n",
       "      <td>5</td>\n",
       "      <td>Heat (1995)</td>\n",
       "      <td>1995</td>\n",
       "    </tr>\n",
       "    <tr>\n",
       "      <th>3</th>\n",
       "      <td>1</td>\n",
       "      <td>47</td>\n",
       "      <td>5.0</td>\n",
       "      <td>964983815</td>\n",
       "      <td>2000</td>\n",
       "      <td>43</td>\n",
       "      <td>Seven (a.k.a. Se7en) (1995)</td>\n",
       "      <td>1995</td>\n",
       "    </tr>\n",
       "    <tr>\n",
       "      <th>4</th>\n",
       "      <td>1</td>\n",
       "      <td>50</td>\n",
       "      <td>5.0</td>\n",
       "      <td>964982931</td>\n",
       "      <td>2000</td>\n",
       "      <td>46</td>\n",
       "      <td>Usual Suspects, The (1995)</td>\n",
       "      <td>1995</td>\n",
       "    </tr>\n",
       "  </tbody>\n",
       "</table>\n",
       "</div>"
      ],
      "text/plain": [
       "   userId  movieId  rating  timestamp  year  movieIdx  \\\n",
       "0       1        1     4.0  964982703  2000         0   \n",
       "1       1        3     4.0  964981247  2000         2   \n",
       "2       1        6     4.0  964982224  2000         5   \n",
       "3       1       47     5.0  964983815  2000        43   \n",
       "4       1       50     5.0  964982931  2000        46   \n",
       "\n",
       "                         title year_release  \n",
       "0             Toy Story (1995)         1995  \n",
       "1      Grumpier Old Men (1995)         1995  \n",
       "2                  Heat (1995)         1995  \n",
       "3  Seven (a.k.a. Se7en) (1995)         1995  \n",
       "4   Usual Suspects, The (1995)         1995  "
      ]
     },
     "execution_count": 13,
     "metadata": {},
     "output_type": "execute_result"
    }
   ],
   "source": [
    "import re\n",
    "\n",
    "def extract_year(title):\n",
    "    \n",
    "    p = re.compile(r\"(?:\\((\\d{4})\\))?\\s*$\")\n",
    "    m = p.search(title)\n",
    "    year = m.group(1)\n",
    "    \n",
    "    return year\n",
    "\n",
    "df['year_release'] = df.title.apply(lambda x:extract_year(x))\n",
    "df.head()"
   ]
  },
  {
   "cell_type": "code",
   "execution_count": 29,
   "metadata": {},
   "outputs": [
    {
     "data": {
      "text/html": [
       "<div>\n",
       "<style scoped>\n",
       "    .dataframe tbody tr th:only-of-type {\n",
       "        vertical-align: middle;\n",
       "    }\n",
       "\n",
       "    .dataframe tbody tr th {\n",
       "        vertical-align: top;\n",
       "    }\n",
       "\n",
       "    .dataframe thead th {\n",
       "        text-align: right;\n",
       "    }\n",
       "</style>\n",
       "<table border=\"1\" class=\"dataframe\">\n",
       "  <thead>\n",
       "    <tr style=\"text-align: right;\">\n",
       "      <th></th>\n",
       "      <th>userId</th>\n",
       "      <th>movieId</th>\n",
       "      <th>rating</th>\n",
       "      <th>timestamp</th>\n",
       "      <th>year</th>\n",
       "      <th>movieIdx</th>\n",
       "      <th>title</th>\n",
       "      <th>year_release</th>\n",
       "    </tr>\n",
       "  </thead>\n",
       "  <tbody>\n",
       "    <tr>\n",
       "      <th>100831</th>\n",
       "      <td>610</td>\n",
       "      <td>166534</td>\n",
       "      <td>4.0</td>\n",
       "      <td>1493848402</td>\n",
       "      <td>2017</td>\n",
       "      <td>9430</td>\n",
       "      <td>Split (2017)</td>\n",
       "      <td>2017</td>\n",
       "    </tr>\n",
       "    <tr>\n",
       "      <th>100832</th>\n",
       "      <td>610</td>\n",
       "      <td>168248</td>\n",
       "      <td>5.0</td>\n",
       "      <td>1493850091</td>\n",
       "      <td>2017</td>\n",
       "      <td>9457</td>\n",
       "      <td>John Wick: Chapter Two (2017)</td>\n",
       "      <td>2017</td>\n",
       "    </tr>\n",
       "    <tr>\n",
       "      <th>100833</th>\n",
       "      <td>610</td>\n",
       "      <td>168250</td>\n",
       "      <td>5.0</td>\n",
       "      <td>1494273047</td>\n",
       "      <td>2017</td>\n",
       "      <td>9458</td>\n",
       "      <td>Get Out (2017)</td>\n",
       "      <td>2017</td>\n",
       "    </tr>\n",
       "    <tr>\n",
       "      <th>100834</th>\n",
       "      <td>610</td>\n",
       "      <td>168252</td>\n",
       "      <td>5.0</td>\n",
       "      <td>1493846352</td>\n",
       "      <td>2017</td>\n",
       "      <td>9459</td>\n",
       "      <td>Logan (2017)</td>\n",
       "      <td>2017</td>\n",
       "    </tr>\n",
       "    <tr>\n",
       "      <th>100835</th>\n",
       "      <td>610</td>\n",
       "      <td>170875</td>\n",
       "      <td>3.0</td>\n",
       "      <td>1493846415</td>\n",
       "      <td>2017</td>\n",
       "      <td>9498</td>\n",
       "      <td>The Fate of the Furious (2017)</td>\n",
       "      <td>2017</td>\n",
       "    </tr>\n",
       "  </tbody>\n",
       "</table>\n",
       "</div>"
      ],
      "text/plain": [
       "        userId  movieId  rating   timestamp  year  movieIdx  \\\n",
       "100831     610   166534     4.0  1493848402  2017      9430   \n",
       "100832     610   168248     5.0  1493850091  2017      9457   \n",
       "100833     610   168250     5.0  1494273047  2017      9458   \n",
       "100834     610   168252     5.0  1493846352  2017      9459   \n",
       "100835     610   170875     3.0  1493846415  2017      9498   \n",
       "\n",
       "                                 title year_release  \n",
       "100831                    Split (2017)         2017  \n",
       "100832   John Wick: Chapter Two (2017)         2017  \n",
       "100833                  Get Out (2017)         2017  \n",
       "100834                    Logan (2017)         2017  \n",
       "100835  The Fate of the Furious (2017)         2017  "
      ]
     },
     "execution_count": 29,
     "metadata": {},
     "output_type": "execute_result"
    }
   ],
   "source": [
    "df.tail()"
   ]
  },
  {
   "cell_type": "markdown",
   "metadata": {},
   "source": [
    "#### User Ids\n",
    "\n",
    "User ids start from 1 to 610, and we will change it to range between 0 a 609 (they are assigned sequentially)"
   ]
  },
  {
   "cell_type": "code",
   "execution_count": 30,
   "metadata": {},
   "outputs": [
    {
     "data": {
      "text/html": [
       "<div>\n",
       "<style scoped>\n",
       "    .dataframe tbody tr th:only-of-type {\n",
       "        vertical-align: middle;\n",
       "    }\n",
       "\n",
       "    .dataframe tbody tr th {\n",
       "        vertical-align: top;\n",
       "    }\n",
       "\n",
       "    .dataframe thead th {\n",
       "        text-align: right;\n",
       "    }\n",
       "</style>\n",
       "<table border=\"1\" class=\"dataframe\">\n",
       "  <thead>\n",
       "    <tr style=\"text-align: right;\">\n",
       "      <th></th>\n",
       "      <th>userId</th>\n",
       "      <th>movieId</th>\n",
       "      <th>rating</th>\n",
       "      <th>timestamp</th>\n",
       "      <th>year</th>\n",
       "      <th>movieIdx</th>\n",
       "      <th>title</th>\n",
       "      <th>year_release</th>\n",
       "    </tr>\n",
       "  </thead>\n",
       "  <tbody>\n",
       "    <tr>\n",
       "      <th>0</th>\n",
       "      <td>0</td>\n",
       "      <td>1</td>\n",
       "      <td>4.0</td>\n",
       "      <td>964982703</td>\n",
       "      <td>2000</td>\n",
       "      <td>0</td>\n",
       "      <td>Toy Story (1995)</td>\n",
       "      <td>1995</td>\n",
       "    </tr>\n",
       "    <tr>\n",
       "      <th>1</th>\n",
       "      <td>0</td>\n",
       "      <td>3</td>\n",
       "      <td>4.0</td>\n",
       "      <td>964981247</td>\n",
       "      <td>2000</td>\n",
       "      <td>2</td>\n",
       "      <td>Grumpier Old Men (1995)</td>\n",
       "      <td>1995</td>\n",
       "    </tr>\n",
       "    <tr>\n",
       "      <th>2</th>\n",
       "      <td>0</td>\n",
       "      <td>6</td>\n",
       "      <td>4.0</td>\n",
       "      <td>964982224</td>\n",
       "      <td>2000</td>\n",
       "      <td>5</td>\n",
       "      <td>Heat (1995)</td>\n",
       "      <td>1995</td>\n",
       "    </tr>\n",
       "    <tr>\n",
       "      <th>3</th>\n",
       "      <td>0</td>\n",
       "      <td>47</td>\n",
       "      <td>5.0</td>\n",
       "      <td>964983815</td>\n",
       "      <td>2000</td>\n",
       "      <td>43</td>\n",
       "      <td>Seven (a.k.a. Se7en) (1995)</td>\n",
       "      <td>1995</td>\n",
       "    </tr>\n",
       "    <tr>\n",
       "      <th>4</th>\n",
       "      <td>0</td>\n",
       "      <td>50</td>\n",
       "      <td>5.0</td>\n",
       "      <td>964982931</td>\n",
       "      <td>2000</td>\n",
       "      <td>46</td>\n",
       "      <td>Usual Suspects, The (1995)</td>\n",
       "      <td>1995</td>\n",
       "    </tr>\n",
       "  </tbody>\n",
       "</table>\n",
       "</div>"
      ],
      "text/plain": [
       "   userId  movieId  rating  timestamp  year  movieIdx  \\\n",
       "0       0        1     4.0  964982703  2000         0   \n",
       "1       0        3     4.0  964981247  2000         2   \n",
       "2       0        6     4.0  964982224  2000         5   \n",
       "3       0       47     5.0  964983815  2000        43   \n",
       "4       0       50     5.0  964982931  2000        46   \n",
       "\n",
       "                         title year_release  \n",
       "0             Toy Story (1995)         1995  \n",
       "1      Grumpier Old Men (1995)         1995  \n",
       "2                  Heat (1995)         1995  \n",
       "3  Seven (a.k.a. Se7en) (1995)         1995  \n",
       "4   Usual Suspects, The (1995)         1995  "
      ]
     },
     "execution_count": 30,
     "metadata": {},
     "output_type": "execute_result"
    }
   ],
   "source": [
    "df.userId = df.userId -1\n",
    "df.head()"
   ]
  },
  {
   "cell_type": "markdown",
   "metadata": {},
   "source": [
    "#### Retrieve Movies IDs\n",
    "\n",
    "Define a function that retrieves all the ids and titles for movies containing 'text' in its title"
   ]
  },
  {
   "cell_type": "code",
   "execution_count": 27,
   "metadata": {},
   "outputs": [],
   "source": [
    "def return_movie_id(text, ids):\n",
    "    \"\"\"\n",
    "    Inputs:\n",
    "    - text: string to be looked for in movies titles\n",
    "    - ids: dictionary of {id:title}\n",
    "    \n",
    "    Return: \n",
    "    - A list of (id,title) if text found in titles, and an empty list otherwise.\n",
    "    \"\"\"\n",
    "    \n",
    "    return [(k, v) for k, v in list(ids.items()) if v.lower().find(text.lower()) > -1]\n",
    " "
   ]
  },
  {
   "cell_type": "code",
   "execution_count": 28,
   "metadata": {},
   "outputs": [
    {
     "data": {
      "text/plain": [
       "[(224, 'Star Wars: Episode IV - A New Hope (1977)'),\n",
       " (898, 'Star Wars: Episode V - The Empire Strikes Back (1980)'),\n",
       " (911, 'Star Wars: Episode VI - Return of the Jedi (1983)'),\n",
       " (1979, 'Star Wars: Episode I - The Phantom Menace (1999)'),\n",
       " (3832, 'Star Wars: Episode II - Attack of the Clones (2002)'),\n",
       " (5895, 'Star Wars: Episode III - Revenge of the Sith (2005)'),\n",
       " (6822, 'Star Wars: The Clone Wars (2008)'),\n",
       " (7365, \"Empire of Dreams: The Story of the 'Star Wars' Trilogy (2004)\"),\n",
       " (8681, 'Star Wars: Episode VII - The Force Awakens (2015)'),\n",
       " (8906, 'The Star Wars Holiday Special (1978)'),\n",
       " (9429, 'Rogue One: A Star Wars Story (2016)'),\n",
       " (9640, 'Star Wars: The Last Jedi (2017)'),\n",
       " (9705, 'Solo: A Star Wars Story (2018)')]"
      ]
     },
     "execution_count": 28,
     "metadata": {},
     "output_type": "execute_result"
    }
   ],
   "source": [
    "queryTitle = 'Star Wars'\n",
    "return_movie_id(queryTitle, idx_to_title)"
   ]
  },
  {
   "cell_type": "markdown",
   "metadata": {},
   "source": [
    "<div class  = \"alert alert-info\"> \n",
    "<b>QUESTION</b>: in the previous cell, change <tt>queryTitle</tt> to find the index of a movie of your taste. Change also <tt>idx_to_movieTitle</tt> for <tt>movieId_to_movieTitle</tt> and check out the differences.\n",
    "</div>"
   ]
  },
  {
   "cell_type": "markdown",
   "metadata": {},
   "source": [
    "---\n",
    "<a id='popular'></a>\n",
    "# 2. Most popular movies\n",
    "\n",
    "Movies can be ranked according to different popularity metrics:\n",
    "* Most rated movie (it is assumed that this is the most watched movie)\n",
    "* Highest averaged rated movie\n",
    "\n",
    "## 2.1 Most rated movie"
   ]
  },
  {
   "cell_type": "code",
   "execution_count": 37,
   "metadata": {},
   "outputs": [
    {
     "data": {
      "text/html": [
       "<div>\n",
       "<style scoped>\n",
       "    .dataframe tbody tr th:only-of-type {\n",
       "        vertical-align: middle;\n",
       "    }\n",
       "\n",
       "    .dataframe tbody tr th {\n",
       "        vertical-align: top;\n",
       "    }\n",
       "\n",
       "    .dataframe thead th {\n",
       "        text-align: right;\n",
       "    }\n",
       "</style>\n",
       "<table border=\"1\" class=\"dataframe\">\n",
       "  <thead>\n",
       "    <tr style=\"text-align: right;\">\n",
       "      <th></th>\n",
       "      <th>popularity_score</th>\n",
       "    </tr>\n",
       "    <tr>\n",
       "      <th>title</th>\n",
       "      <th></th>\n",
       "    </tr>\n",
       "  </thead>\n",
       "  <tbody>\n",
       "    <tr>\n",
       "      <th>Forrest Gump (1994)</th>\n",
       "      <td>329</td>\n",
       "    </tr>\n",
       "    <tr>\n",
       "      <th>Shawshank Redemption, The (1994)</th>\n",
       "      <td>317</td>\n",
       "    </tr>\n",
       "    <tr>\n",
       "      <th>Pulp Fiction (1994)</th>\n",
       "      <td>307</td>\n",
       "    </tr>\n",
       "    <tr>\n",
       "      <th>Silence of the Lambs, The (1991)</th>\n",
       "      <td>279</td>\n",
       "    </tr>\n",
       "    <tr>\n",
       "      <th>Matrix, The (1999)</th>\n",
       "      <td>278</td>\n",
       "    </tr>\n",
       "    <tr>\n",
       "      <th>Star Wars: Episode IV - A New Hope (1977)</th>\n",
       "      <td>251</td>\n",
       "    </tr>\n",
       "    <tr>\n",
       "      <th>Jurassic Park (1993)</th>\n",
       "      <td>238</td>\n",
       "    </tr>\n",
       "    <tr>\n",
       "      <th>Braveheart (1995)</th>\n",
       "      <td>237</td>\n",
       "    </tr>\n",
       "    <tr>\n",
       "      <th>Terminator 2: Judgment Day (1991)</th>\n",
       "      <td>224</td>\n",
       "    </tr>\n",
       "    <tr>\n",
       "      <th>Schindler's List (1993)</th>\n",
       "      <td>220</td>\n",
       "    </tr>\n",
       "  </tbody>\n",
       "</table>\n",
       "</div>"
      ],
      "text/plain": [
       "                                           popularity_score\n",
       "title                                                      \n",
       "Forrest Gump (1994)                                     329\n",
       "Shawshank Redemption, The (1994)                        317\n",
       "Pulp Fiction (1994)                                     307\n",
       "Silence of the Lambs, The (1991)                        279\n",
       "Matrix, The (1999)                                      278\n",
       "Star Wars: Episode IV - A New Hope (1977)               251\n",
       "Jurassic Park (1993)                                    238\n",
       "Braveheart (1995)                                       237\n",
       "Terminator 2: Judgment Day (1991)                       224\n",
       "Schindler's List (1993)                                 220"
      ]
     },
     "execution_count": 37,
     "metadata": {},
     "output_type": "execute_result"
    }
   ],
   "source": [
    "most_rated_movie = df[['userId','title']].groupby(['title']).count().sort_values('userId',ascending=False)\n",
    "most_rated_movie.columns = ['popularity_score']\n",
    "\n",
    "most_rated_movie.head(10)"
   ]
  },
  {
   "cell_type": "markdown",
   "metadata": {},
   "source": [
    "## 2.2 Highest averaged rated movie"
   ]
  },
  {
   "cell_type": "code",
   "execution_count": 56,
   "metadata": {},
   "outputs": [
    {
     "data": {
      "text/html": [
       "<div>\n",
       "<style scoped>\n",
       "    .dataframe tbody tr th:only-of-type {\n",
       "        vertical-align: middle;\n",
       "    }\n",
       "\n",
       "    .dataframe tbody tr th {\n",
       "        vertical-align: top;\n",
       "    }\n",
       "\n",
       "    .dataframe thead th {\n",
       "        text-align: right;\n",
       "    }\n",
       "</style>\n",
       "<table border=\"1\" class=\"dataframe\">\n",
       "  <thead>\n",
       "    <tr style=\"text-align: right;\">\n",
       "      <th></th>\n",
       "      <th>avg_rating</th>\n",
       "      <th>n_raters</th>\n",
       "    </tr>\n",
       "    <tr>\n",
       "      <th>title</th>\n",
       "      <th></th>\n",
       "      <th></th>\n",
       "    </tr>\n",
       "  </thead>\n",
       "  <tbody>\n",
       "    <tr>\n",
       "      <th>Tom Segura: Mostly Stories (2016)</th>\n",
       "      <td>5.0</td>\n",
       "      <td>1</td>\n",
       "    </tr>\n",
       "    <tr>\n",
       "      <th>Winter in Prostokvashino (1984)</th>\n",
       "      <td>5.0</td>\n",
       "      <td>1</td>\n",
       "    </tr>\n",
       "    <tr>\n",
       "      <th>The Adventures of Sherlock Holmes and Doctor Watson: The Treasures of Agra (1983)</th>\n",
       "      <td>5.0</td>\n",
       "      <td>1</td>\n",
       "    </tr>\n",
       "    <tr>\n",
       "      <th>The Adventures of Sherlock Holmes and Dr. Watson: Bloody Signature (1979)</th>\n",
       "      <td>5.0</td>\n",
       "      <td>1</td>\n",
       "    </tr>\n",
       "    <tr>\n",
       "      <th>When Worlds Collide (1951)</th>\n",
       "      <td>5.0</td>\n",
       "      <td>1</td>\n",
       "    </tr>\n",
       "    <tr>\n",
       "      <th>Watching the Detectives (2007)</th>\n",
       "      <td>5.0</td>\n",
       "      <td>1</td>\n",
       "    </tr>\n",
       "    <tr>\n",
       "      <th>Superman/Batman: Public Enemies (2009)</th>\n",
       "      <td>5.0</td>\n",
       "      <td>1</td>\n",
       "    </tr>\n",
       "    <tr>\n",
       "      <th>Thin Line Between Love and Hate, A (1996)</th>\n",
       "      <td>5.0</td>\n",
       "      <td>1</td>\n",
       "    </tr>\n",
       "    <tr>\n",
       "      <th>Supercop 2 (Project S) (Chao ji ji hua) (1993)</th>\n",
       "      <td>5.0</td>\n",
       "      <td>1</td>\n",
       "    </tr>\n",
       "    <tr>\n",
       "      <th>Last Year's Snow Was Falling (1983)</th>\n",
       "      <td>5.0</td>\n",
       "      <td>1</td>\n",
       "    </tr>\n",
       "  </tbody>\n",
       "</table>\n",
       "</div>"
      ],
      "text/plain": [
       "                                                    avg_rating  n_raters\n",
       "title                                                                   \n",
       "Tom Segura: Mostly Stories (2016)                          5.0         1\n",
       "Winter in Prostokvashino (1984)                            5.0         1\n",
       "The Adventures of Sherlock Holmes and Doctor Wa...         5.0         1\n",
       "The Adventures of Sherlock Holmes and Dr. Watso...         5.0         1\n",
       "When Worlds Collide (1951)                                 5.0         1\n",
       "Watching the Detectives (2007)                             5.0         1\n",
       "Superman/Batman: Public Enemies (2009)                     5.0         1\n",
       "Thin Line Between Love and Hate, A (1996)                  5.0         1\n",
       "Supercop 2 (Project S) (Chao ji ji hua) (1993)             5.0         1\n",
       "Last Year's Snow Was Falling (1983)                        5.0         1"
      ]
     },
     "execution_count": 56,
     "metadata": {},
     "output_type": "execute_result"
    }
   ],
   "source": [
    "avg_rating_per_movie = df[['title','rating']].groupby('title').agg(['mean', 'count'])\n",
    "avg_rating_per_movie.columns = ['avg_rating','n_raters']\n",
    "avg_rating_per_movie.head()\n",
    "\n",
    "min_raters = 1\n",
    "avg_rating_per_movie = avg_rating_per_movie[avg_rating_per_movie.n_raters>=min_raters]\n",
    "avg_rating_per_movie = avg_rating_per_movie.sort_values(['avg_rating'],ascending=False)\n",
    "\n",
    "avg_rating_per_movie.head(10)"
   ]
  },
  {
   "cell_type": "markdown",
   "metadata": {},
   "source": [
    "<div class  = \"alert alert-info\"> \n",
    "<b> QUESTION </b>: Change the value of <tt>min_raters</tt> and re-run the above cell. What happens now? \n",
    "</div>"
   ]
  },
  {
   "cell_type": "markdown",
   "metadata": {},
   "source": [
    "---\n",
    "<a id='cf'></a>\n",
    "# 3. Collaborative filtering\n",
    "\n",
    "## 3.1 Naïve approach\n",
    "\n",
    "*\"People who watched (rated/purchased) this movie (product) also watched (rated/purchased)...\"* \n",
    "\n",
    "Let's build our co-occurrence matrix"
   ]
  },
  {
   "cell_type": "code",
   "execution_count": 57,
   "metadata": {},
   "outputs": [
    {
     "name": "stdout",
     "output_type": "stream",
     "text": [
      "Number of rated movies: 9719\n",
      "Number of movies: 9737\n"
     ]
    }
   ],
   "source": [
    "print('Number of rated movies:', len(df.movieIdx.unique()))\n",
    "print('Number of movies:', len(movies.movieIdx.unique()))"
   ]
  },
  {
   "cell_type": "markdown",
   "metadata": {},
   "source": [
    "<div class  = \"alert alert-info\"> \n",
    "<b> QUESTION </b>: Aiming to build a co-occurrence matrix, which should be the dimensions of this matrix? \n",
    "</div>"
   ]
  },
  {
   "cell_type": "markdown",
   "metadata": {},
   "source": [
    "### 3.1.1 Build co-occurence matrix"
   ]
  },
  {
   "cell_type": "code",
   "execution_count": 81,
   "metadata": {},
   "outputs": [],
   "source": [
    "# This might be useful\n",
    "movies_per_user_dict = {user_id:idx.values for user_id,idx in df.groupby('userId')['movieIdx']}\n",
    "\n",
    "# check movies_per_user_dict (uncomment the following lines if necessary)\n",
    "\n",
    "#this_user_id = 0\n",
    "#movies_per_user_dict[this_user_id]\n",
    "#[idx_to_title[k] for k in movies_per_user_dict[this_user_id]] # retrieve titles "
   ]
  },
  {
   "cell_type": "code",
   "execution_count": 84,
   "metadata": {},
   "outputs": [
    {
     "name": "stdout",
     "output_type": "stream",
     "text": [
      "9737\n",
      "(9737, 9737)\n"
     ]
    }
   ],
   "source": [
    "N = len(movies.movieIdx.unique()) # YOUR CODE HERE \n",
    "print(N)\n",
    "\n",
    "coMatrix = np.zeros((N, N)) # co-occurrence matrix\n",
    "for userId, ids in movies_per_user_dict.items():\n",
    "    for m in ids:\n",
    "        coMatrix[m,ids] += 1 # YOUR CODE HERE\n",
    "\n",
    "print(coMatrix.shape)"
   ]
  },
  {
   "cell_type": "code",
   "execution_count": 85,
   "metadata": {},
   "outputs": [
    {
     "data": {
      "text/plain": [
       "array([[215.,  68.,  32.,   2.,  32.,  58.,  32.,   5.,  12.,  69.],\n",
       "       [ 68., 110.,  26.,   3.,  22.,  36.,  18.,   6.,   3.,  56.],\n",
       "       [ 32.,  26.,  52.,   1.,  19.,  25.,  19.,   4.,   9.,  23.],\n",
       "       [  2.,   3.,   1.,   7.,   3.,   2.,   6.,   1.,   0.,   4.],\n",
       "       [ 32.,  22.,  19.,   3.,  49.,  24.,  23.,   4.,   9.,  20.],\n",
       "       [ 58.,  36.,  25.,   2.,  24., 102.,  22.,   5.,   9.,  49.],\n",
       "       [ 32.,  18.,  19.,   6.,  23.,  22.,  54.,   4.,   5.,  22.],\n",
       "       [  5.,   6.,   4.,   1.,   4.,   5.,   4.,   8.,   0.,   6.],\n",
       "       [ 12.,   3.,   9.,   0.,   9.,   9.,   5.,   0.,  16.,   3.],\n",
       "       [ 69.,  56.,  23.,   4.,  20.,  49.,  22.,   6.,   3., 132.]])"
      ]
     },
     "execution_count": 85,
     "metadata": {},
     "output_type": "execute_result"
    }
   ],
   "source": [
    "coMatrix[0:10,0:10]"
   ]
  },
  {
   "cell_type": "markdown",
   "metadata": {},
   "source": [
    "### 3.1.2 Predictions using the co-occurrence matrix\n",
    "\n",
    "Now, let's make predictions!"
   ]
  },
  {
   "cell_type": "code",
   "execution_count": 86,
   "metadata": {},
   "outputs": [
    {
     "data": {
      "text/plain": [
       "[(510, 'Silence of the Lambs, The (1991)'), (6618, 'Lions For Lambs (2007)')]"
      ]
     },
     "execution_count": 86,
     "metadata": {},
     "output_type": "execute_result"
    }
   ],
   "source": [
    "queryTitle = 'lambs'\n",
    "return_movie_id(queryTitle, idx_to_title)"
   ]
  },
  {
   "cell_type": "code",
   "execution_count": 110,
   "metadata": {},
   "outputs": [
    {
     "name": "stdout",
     "output_type": "stream",
     "text": [
      "Let's make recommendations for:  Silence of the Lambs, The (1991)\n",
      "\n",
      "1 - Pulp Fiction (1994)\n",
      "2 - Forrest Gump (1994)\n",
      "3 - Shawshank Redemption, The (1994)\n",
      "4 - Matrix, The (1999)\n",
      "5 - Jurassic Park (1993)\n",
      "6 - Star Wars: Episode IV - A New Hope (1977)\n",
      "7 - Braveheart (1995)\n",
      "8 - Seven (a.k.a. Se7en) (1995)\n",
      "9 - Terminator 2: Judgment Day (1991)\n",
      "10 - Schindler's List (1993)\n",
      "11 - Fugitive, The (1993)\n",
      "12 - American Beauty (1999)\n",
      "13 - Usual Suspects, The (1995)\n",
      "14 - Fight Club (1999)\n",
      "15 - Star Wars: Episode V - The Empire Strikes Back (1980)\n",
      "16 - Fargo (1996)\n",
      "17 - Apollo 13 (1995)\n",
      "18 - Batman (1989)\n",
      "19 - Godfather, The (1972)\n",
      "20 - Independence Day (a.k.a. ID4) (1996)\n"
     ]
    }
   ],
   "source": [
    "queryMovieId = 510 # YOUR CODE HERE\n",
    "print('Let\\'s make recommendations for: ', idx_to_title[queryMovieId])\n",
    "print('')\n",
    "\n",
    "# Get the corresponding row \n",
    "queryAnswer = coMatrix[queryMovieId,:] # YOUR CODE HERE\n",
    "\n",
    "# Get the highest counts (np.argsort might be useful, in descending order)\n",
    "queryAnswer = np.argsort(queryAnswer)[::-1] # YOUR CODE HERE\n",
    "\n",
    "# Get the highest counts (do not select the query movie)\n",
    "queryAnswer = queryAnswer[1:]# YOUR CODE HERE\n",
    "queryAnswer\n",
    "\n",
    "# let's print out the first 20 recommendations\n",
    "printAnswer = queryAnswer[0:20]\n",
    "for i,answerId in enumerate(printAnswer):\n",
    "    print(i+1,'-', idx_to_title[answerId])"
   ]
  },
  {
   "cell_type": "markdown",
   "metadata": {},
   "source": [
    "<div class  = \"alert alert-info\"> \n",
    "<b> QUESTION </b>: How accurate are these recommendations? Alternatives?\n",
    "</div>\n",
    "\n",
    "### 3.1.3 Jaccard similarity \n",
    "\n",
    "What about using the [Jaccard similarity index](https://en.wikipedia.org/wiki/Jaccard_index)?"
   ]
  },
  {
   "cell_type": "code",
   "execution_count": 111,
   "metadata": {},
   "outputs": [
    {
     "name": "stdout",
     "output_type": "stream",
     "text": [
      "1 - Pulp Fiction (1994)\n",
      "2 - Shawshank Redemption, The (1994)\n",
      "3 - Forrest Gump (1994)\n",
      "4 - Seven (a.k.a. Se7en) (1995)\n",
      "5 - Jurassic Park (1993)\n",
      "6 - Fugitive, The (1993)\n",
      "7 - Schindler's List (1993)\n",
      "8 - Terminator 2: Judgment Day (1991)\n",
      "9 - Star Wars: Episode IV - A New Hope (1977)\n",
      "10 - Fargo (1996)\n",
      "11 - Braveheart (1995)\n",
      "12 - Matrix, The (1999)\n",
      "13 - American Beauty (1999)\n",
      "14 - Usual Suspects, The (1995)\n",
      "15 - Apollo 13 (1995)\n",
      "16 - Fight Club (1999)\n",
      "17 - Star Wars: Episode V - The Empire Strikes Back (1980)\n",
      "18 - Batman (1989)\n",
      "19 - Godfather, The (1972)\n",
      "20 - True Lies (1994)\n"
     ]
    }
   ],
   "source": [
    "i = queryMovieId\n",
    "jaccardScore = np.zeros(N-1)\n",
    "for j in range(N-1):\n",
    "    num = coMatrix[i,j]  # YOUR CODE HERE \n",
    "    dem = coMatrix[i,i] + coMatrix[j,j] - coMatrix[i,j] # YOUR CODE HERE \n",
    "    jaccardScore[j] = float(num)/float(dem) \n",
    "\n",
    "queryAnswer = np.argsort(jaccardScore)[::-1] #descending order\n",
    "queryAnswer = queryAnswer[1:] \n",
    "\n",
    "# let's print out the first 20 recommendations\n",
    "printAnswer = queryAnswer[0:20]\n",
    "for i,answerId in enumerate(printAnswer):\n",
    "    print(i+1,'-', idx_to_title[answerId])"
   ]
  },
  {
   "cell_type": "markdown",
   "metadata": {},
   "source": [
    "## 3.2 Memory-Based Collaborative Filtering (CF)\n",
    "\n",
    "Memory-Based Collaborative Filtering approaches can be divided into two main sections: **user-user filtering** and **item-item filtering**. \n",
    "\n",
    "* User-user CF: *“Users who are similar to you also liked …”*. A *user-user filtering* will take a particular user, find users that are similar to that user based on similarity of ratings, and recommend items that those similar users liked. \n",
    "\n",
    "* Item-Item CF: *“Users who liked this movie also liked …”*. In contrast, *item-item filtering* will take an item, find users who liked that item, and find other items that those users or similar users also liked. \n",
    "\n",
    "\n",
    "First, we need to build our utility matrix. "
   ]
  },
  {
   "cell_type": "code",
   "execution_count": 127,
   "metadata": {},
   "outputs": [
    {
     "data": {
      "text/html": [
       "<div>\n",
       "<style scoped>\n",
       "    .dataframe tbody tr th:only-of-type {\n",
       "        vertical-align: middle;\n",
       "    }\n",
       "\n",
       "    .dataframe tbody tr th {\n",
       "        vertical-align: top;\n",
       "    }\n",
       "\n",
       "    .dataframe thead th {\n",
       "        text-align: right;\n",
       "    }\n",
       "</style>\n",
       "<table border=\"1\" class=\"dataframe\">\n",
       "  <thead>\n",
       "    <tr style=\"text-align: right;\">\n",
       "      <th></th>\n",
       "      <th>userId</th>\n",
       "      <th>movieId</th>\n",
       "      <th>rating</th>\n",
       "      <th>timestamp</th>\n",
       "      <th>year</th>\n",
       "      <th>movieIdx</th>\n",
       "      <th>title</th>\n",
       "      <th>year_release</th>\n",
       "    </tr>\n",
       "  </thead>\n",
       "  <tbody>\n",
       "    <tr>\n",
       "      <th>0</th>\n",
       "      <td>0</td>\n",
       "      <td>1</td>\n",
       "      <td>4.0</td>\n",
       "      <td>964982703</td>\n",
       "      <td>2000</td>\n",
       "      <td>0</td>\n",
       "      <td>Toy Story (1995)</td>\n",
       "      <td>1995</td>\n",
       "    </tr>\n",
       "    <tr>\n",
       "      <th>1</th>\n",
       "      <td>0</td>\n",
       "      <td>3</td>\n",
       "      <td>4.0</td>\n",
       "      <td>964981247</td>\n",
       "      <td>2000</td>\n",
       "      <td>2</td>\n",
       "      <td>Grumpier Old Men (1995)</td>\n",
       "      <td>1995</td>\n",
       "    </tr>\n",
       "  </tbody>\n",
       "</table>\n",
       "</div>"
      ],
      "text/plain": [
       "   userId  movieId  rating  timestamp  year  movieIdx  \\\n",
       "0       0        1     4.0  964982703  2000         0   \n",
       "1       0        3     4.0  964981247  2000         2   \n",
       "\n",
       "                     title year_release  \n",
       "0         Toy Story (1995)         1995  \n",
       "1  Grumpier Old Men (1995)         1995  "
      ]
     },
     "execution_count": 127,
     "metadata": {},
     "output_type": "execute_result"
    }
   ],
   "source": [
    "# just as a reminder of the information\n",
    "df.head(2)"
   ]
  },
  {
   "cell_type": "code",
   "execution_count": 120,
   "metadata": {},
   "outputs": [
    {
     "name": "stdout",
     "output_type": "stream",
     "text": [
      "610 x 9737\n",
      "Dimensions:  (610, 9737)\n"
     ]
    }
   ],
   "source": [
    "# build utility matrix\n",
    "n_items = len(movies.movieIdx.unique()) # YOUR CODE HERE \n",
    "n_users = len(df.userId.unique())       # YOUR CODE HERE \n",
    "print(n_users, 'x', n_items)\n",
    "\n",
    "uMatrix = np.zeros((n_users, n_items)) # utility matrix\n",
    "\n",
    "for row in df.itertuples():\n",
    "    user_id = row[1]\n",
    "    item_id = row[6]\n",
    "    uMatrix[user_id, item_id] = row[3] # YOUR CODE HERE \n",
    "\n",
    "print('Dimensions: ', uMatrix.shape)"
   ]
  },
  {
   "cell_type": "markdown",
   "metadata": {},
   "source": [
    "#### Do some checking ..."
   ]
  },
  {
   "cell_type": "code",
   "execution_count": 126,
   "metadata": {},
   "outputs": [
    {
     "name": "stdout",
     "output_type": "stream",
     "text": [
      "[[4.  0.  4.  0.  0.  4.  0.  0.  0.  0. ]\n",
      " [0.  0.  0.  0.  0.  0.  0.  0.  0.  0. ]\n",
      " [0.  0.  0.  0.  0.  0.  0.  0.  0.  0. ]\n",
      " [0.  0.  0.  0.  0.  0.  0.  0.  0.  0. ]\n",
      " [4.  0.  0.  0.  0.  0.  0.  0.  0.  0. ]\n",
      " [0.  4.  5.  3.  5.  4.  4.  3.  0.  3. ]\n",
      " [4.5 0.  0.  0.  0.  0.  0.  0.  0.  0. ]\n",
      " [0.  4.  0.  0.  0.  0.  0.  0.  0.  2. ]\n",
      " [0.  0.  0.  0.  0.  0.  0.  0.  0.  0. ]\n",
      " [0.  0.  0.  0.  0.  0.  0.  0.  0.  0. ]]\n",
      "[ 1  2  3  4  5  6  7  9 10 12]\n"
     ]
    }
   ],
   "source": [
    "# show uMatrix\n",
    "print(uMatrix[0:10,0:10])\n",
    "\n",
    "# check for an specific user\n",
    "print(movies_per_user_dict[5][0:10])"
   ]
  },
  {
   "cell_type": "markdown",
   "metadata": {},
   "source": [
    "#### Cosine similarity\n",
    "\n",
    "Now, we define our similarity function"
   ]
  },
  {
   "cell_type": "code",
   "execution_count": 128,
   "metadata": {},
   "outputs": [],
   "source": [
    "def cosineSimilarity(ratings, kind='user', epsilon=1e-9):\n",
    "    # epsilon -> small number for handling dived-by-zero errors\n",
    "    if kind == 'user':\n",
    "        sim = ratings.dot(ratings.T) + epsilon\n",
    "    elif kind == 'item':\n",
    "        sim = ratings.T.dot(ratings) + epsilon\n",
    "    norms = np.array([np.sqrt(np.diagonal(sim))])\n",
    "    return (sim / norms / norms.T)  "
   ]
  },
  {
   "cell_type": "markdown",
   "metadata": {},
   "source": [
    "So we can now calculate our similarity matrices."
   ]
  },
  {
   "cell_type": "code",
   "execution_count": 130,
   "metadata": {},
   "outputs": [
    {
     "name": "stdout",
     "output_type": "stream",
     "text": [
      "user-user:  (610, 610)\n",
      "item-item:  (9737, 9737)\n"
     ]
    }
   ],
   "source": [
    "userSimilarity = cosineSimilarity(uMatrix, kind='user')\n",
    "print('user-user: ', userSimilarity.shape)\n",
    "\n",
    "itemSimilarity = cosineSimilarity(uMatrix, kind='item')\n",
    "print('item-item: ', itemSimilarity.shape)"
   ]
  },
  {
   "cell_type": "code",
   "execution_count": 143,
   "metadata": {},
   "outputs": [
    {
     "name": "stdout",
     "output_type": "stream",
     "text": [
      "[[1.   0.03 0.06 0.19 0.13 0.13 0.16 0.14 0.06 0.02 0.13 0.02]\n",
      " [0.03 1.   0.   0.   0.02 0.03 0.03 0.03 0.   0.07 0.04 0.  ]\n",
      " [0.06 0.   1.   0.   0.01 0.   0.   0.   0.   0.   0.   0.  ]\n",
      " [0.19 0.   0.   1.   0.13 0.09 0.12 0.06 0.01 0.03 0.05 0.05]\n",
      " [0.13 0.02 0.01 0.13 1.   0.3  0.11 0.43 0.   0.03 0.18 0.06]\n",
      " [0.13 0.03 0.   0.09 0.3  1.   0.08 0.37 0.01 0.02 0.22 0.1 ]\n",
      " [0.16 0.03 0.   0.12 0.11 0.08 1.   0.11 0.1  0.13 0.19 0.05]\n",
      " [0.14 0.03 0.   0.06 0.43 0.37 0.11 1.   0.   0.02 0.24 0.05]\n",
      " [0.06 0.   0.   0.01 0.   0.01 0.1  0.   1.   0.04 0.   0.  ]\n",
      " [0.02 0.07 0.   0.03 0.03 0.02 0.13 0.02 0.04 1.   0.03 0.09]\n",
      " [0.13 0.04 0.   0.05 0.18 0.22 0.19 0.24 0.   0.03 1.   0.03]\n",
      " [0.02 0.   0.   0.05 0.06 0.1  0.05 0.05 0.   0.09 0.03 1.  ]]\n",
      "\n",
      "[[1.   0.41 0.3  0.04 0.31 0.38 0.28 0.13 0.23 0.4  0.32 0.22]\n",
      " [0.41 1.   0.28 0.11 0.29 0.3  0.23 0.17 0.04 0.42 0.32 0.17]\n",
      " [0.3  0.28 1.   0.09 0.42 0.28 0.4  0.31 0.3  0.24 0.25 0.2 ]\n",
      " [0.04 0.11 0.09 1.   0.19 0.09 0.28 0.16 0.   0.1  0.15 0.  ]\n",
      " [0.31 0.29 0.42 0.19 1.   0.3  0.47 0.28 0.34 0.22 0.27 0.21]\n",
      " [0.38 0.3  0.28 0.09 0.3  1.   0.24 0.15 0.21 0.39 0.29 0.17]\n",
      " [0.28 0.23 0.4  0.28 0.47 0.24 1.   0.27 0.16 0.24 0.38 0.17]\n",
      " [0.13 0.17 0.31 0.16 0.28 0.15 0.27 1.   0.   0.19 0.23 0.1 ]\n",
      " [0.23 0.04 0.3  0.   0.34 0.21 0.16 0.   1.   0.05 0.04 0.35]\n",
      " [0.4  0.42 0.24 0.1  0.22 0.39 0.24 0.19 0.05 1.   0.35 0.15]\n",
      " [0.32 0.32 0.25 0.15 0.27 0.29 0.38 0.23 0.04 0.35 1.   0.01]\n",
      " [0.22 0.17 0.2  0.   0.21 0.17 0.17 0.1  0.35 0.15 0.01 1.  ]]\n"
     ]
    }
   ],
   "source": [
    "# do some checking\n",
    "print(userSimilarity[0:12,0:12].round(2))\n",
    "print('')\n",
    "print(itemSimilarity[0:12,0:12].round(2))"
   ]
  },
  {
   "cell_type": "markdown",
   "metadata": {},
   "source": [
    "#### Find similar users"
   ]
  },
  {
   "cell_type": "code",
   "execution_count": 144,
   "metadata": {},
   "outputs": [],
   "source": [
    "# run this cell\n",
    "def findKsimilars(rowId,simMatrix,k=5):\n",
    "    qAnswer = simMatrix[rowId,:]\n",
    "    qIds = np.argsort(qAnswer)[::-1]\n",
    "    qValues = simMatrix[rowId,qIds]\n",
    "    \n",
    "    return [(qIds[j],qValues[j]) for j in range(1,k+1)]"
   ]
  },
  {
   "cell_type": "code",
   "execution_count": 150,
   "metadata": {},
   "outputs": [
    {
     "name": "stdout",
     "output_type": "stream",
     "text": [
      "The more similar users to USER_ID = 0 are:\n",
      "\n",
      "User 265 with a similarity of  0.3574077096034573\n",
      "User 312 with a similarity of  0.35156151849109923\n",
      "User 367 with a similarity of  0.34512705158368145\n",
      "User 56 with a similarity of  0.34503427880770776\n",
      "User 90 with a similarity of  0.33472692041828545\n"
     ]
    }
   ],
   "source": [
    "queryUser = 0\n",
    "moreSimilarUsers = findKsimilars(queryUser,userSimilarity,k=5)\n",
    "\n",
    "print('The more similar users to USER_ID =', queryUser, 'are:\\n')\n",
    "\n",
    "for u,v in moreSimilarUsers:\n",
    "    print('User',u, 'with a similarity of ', v)"
   ]
  },
  {
   "cell_type": "markdown",
   "metadata": {},
   "source": [
    "#### Find similar items"
   ]
  },
  {
   "cell_type": "code",
   "execution_count": 155,
   "metadata": {},
   "outputs": [
    {
     "data": {
      "text/plain": [
       "[(152, 'Mallrats (1995)')]"
      ]
     },
     "execution_count": 155,
     "metadata": {},
     "output_type": "execute_result"
    }
   ],
   "source": [
    "queryTitle = 'mallrats'\n",
    "return_movie_id(queryTitle, idx_to_title)"
   ]
  },
  {
   "cell_type": "code",
   "execution_count": 157,
   "metadata": {},
   "outputs": [
    {
     "name": "stdout",
     "output_type": "stream",
     "text": [
      "The more similar movies to  Silence of the Lambs, The (1991) are:\n",
      "\n",
      "Pulp Fiction (1994) with a similarity of  0.7093823704436711\n",
      "Shawshank Redemption, The (1994) with a similarity of  0.6470657221296076\n",
      "Forrest Gump (1994) with a similarity of  0.6394625289111698\n",
      "Seven (a.k.a. Se7en) (1995) with a similarity of  0.6309827687041384\n",
      "Fugitive, The (1993) with a similarity of  0.5943408289185073\n"
     ]
    }
   ],
   "source": [
    "queryMovieId = 510\n",
    "moreSimilarItems = findKsimilars(queryMovieId,itemSimilarity,k=5)\n",
    "\n",
    "print('The more similar movies to ', idx_to_title[queryMovieId], 'are:\\n')\n",
    "\n",
    "for item in moreSimilarItems:\n",
    "    print(idx_to_title[item[0]], 'with a similarity of ', item[1])"
   ]
  },
  {
   "cell_type": "markdown",
   "metadata": {},
   "source": [
    "<div class = \"alert alert-success\">\n",
    "<b>Exercise (advanced - optional):</b> Implement centered cosine similarity metric\n",
    "</div>\n",
    "\n",
    "```python\n",
    "def centeredCosineSimilarity(ratings, kind='user', epsilon=1e-9):\n",
    "    # YOUR CODE HERE\n",
    "```"
   ]
  },
  {
   "cell_type": "markdown",
   "metadata": {},
   "source": [
    "### 3.2.1 Predictions for specific user"
   ]
  },
  {
   "cell_type": "code",
   "execution_count": 158,
   "metadata": {},
   "outputs": [],
   "source": [
    "useruserCFpredictions = userSimilarity.dot(uMatrix) / np.array([np.abs(userSimilarity).sum(axis=1)]).T "
   ]
  },
  {
   "cell_type": "code",
   "execution_count": 167,
   "metadata": {},
   "outputs": [
    {
     "name": "stdout",
     "output_type": "stream",
     "text": [
      "User_ID: 40, liked the most:\n",
      " \n",
      "5.0 - Eyes Wide Shut (1999)\n",
      "5.0 - Prisoners (2013)\n",
      "5.0 - Kill Bill: Vol. 2 (2004)\n",
      "5.0 - Meet the Parents (2000)\n",
      "5.0 - No Country for Old Men (2007)\n",
      "5.0 - Along Came Polly (2004)\n",
      "5.0 - Stand by Me (1986)\n",
      "5.0 - 50 First Dates (2004)\n",
      "5.0 - Mulholland Drive (2001)\n",
      "5.0 - Anger Management (2003)\n",
      "5.0 - Rosemary's Baby (1968)\n",
      "\n",
      "... and he/she has not seen ... \n",
      "Toy Story (1995)\n",
      "Jumanji (1995)\n",
      "Grumpier Old Men (1995)\n",
      "Waiting to Exhale (1995)\n",
      "Father of the Bride Part II (1995)\n",
      "Heat (1995)\n",
      "Sabrina (1995)\n",
      "Tom and Huck (1995)\n",
      "Sudden Death (1995)\n",
      "GoldenEye (1995)\n",
      "American President, The (1995)\n",
      "\n",
      "... among others ...\n"
     ]
    }
   ],
   "source": [
    "queryUser = 500\n",
    "\n",
    "queryAnswer = uMatrix[queryUser,:]\n",
    "queryAnswer = np.argsort(queryAnswer)[::-1] #descending order\n",
    "\n",
    "print('User_ID: ' + str(queryUser) + ', liked the most:')\n",
    "print(' ')\n",
    "# let's print out the first 20 recommendations\n",
    "printAnswer = queryAnswer[0:11]\n",
    "for answerId in printAnswer:\n",
    "    print(uMatrix[queryUser,answerId],'-',idx_to_title[answerId])\n",
    "    \n",
    "print('\\n... and he/she has not seen ... ')\n",
    "\n",
    "noWatchedMovies = np.where(uMatrix[queryUser,:]==0)[0]\n",
    "for m in noWatchedMovies[0:11]:\n",
    "    print(idx_to_title[m])\n",
    "    \n",
    "print('\\n... among others ...')"
   ]
  },
  {
   "cell_type": "code",
   "execution_count": 169,
   "metadata": {},
   "outputs": [
    {
     "name": "stdout",
     "output_type": "stream",
     "text": [
      "so, it is expected he/she also likes ... \n",
      " \n",
      "Shawshank Redemption, The (1994)\n",
      "Star Wars: Episode IV - A New Hope (1977)\n",
      "Lord of the Rings: The Fellowship of the Ring, The (2001)\n",
      "Lord of the Rings: The Return of the King, The (2003)\n",
      "Schindler's List (1993)\n",
      "Star Wars: Episode V - The Empire Strikes Back (1980)\n",
      "Godfather, The (1972)\n",
      "Raiders of the Lost Ark (Indiana Jones and the Raiders of the Lost Ark) (1981)\n",
      "Sixth Sense, The (1999)\n",
      "Braveheart (1995)\n",
      "Star Wars: Episode VI - Return of the Jedi (1983)\n"
     ]
    }
   ],
   "source": [
    "queryAnswer = useruserCFpredictions[queryUser,noWatchedMovies]\n",
    "queryAnswer = noWatchedMovies[np.argsort(queryAnswer)[::-1]] #descending order\n",
    "\n",
    "print('so, it is expected he/she also likes ... ')\n",
    "print(' ')\n",
    "\n",
    "printAnswer = queryAnswer[0:11]\n",
    "for answerId in printAnswer:\n",
    "    print(idx_to_title[answerId])"
   ]
  },
  {
   "cell_type": "markdown",
   "metadata": {},
   "source": [
    "### 3.2.1. CF Evaluation\n",
    "\n",
    "We need a training and a test set"
   ]
  },
  {
   "cell_type": "code",
   "execution_count": 171,
   "metadata": {},
   "outputs": [
    {
     "name": "stdout",
     "output_type": "stream",
     "text": [
      "Training data:  (75622, 8)\n",
      "Test data:  (25208, 8)\n"
     ]
    }
   ],
   "source": [
    "from sklearn.model_selection import train_test_split\n",
    "trainData, testData = train_test_split(df, test_size=0.25, random_state=0)\n",
    "\n",
    "print('Training data: ', trainData.shape)\n",
    "print('Test data: ', testData.shape)"
   ]
  },
  {
   "cell_type": "code",
   "execution_count": 172,
   "metadata": {},
   "outputs": [
    {
     "name": "stdout",
     "output_type": "stream",
     "text": [
      "(610, 9737)\n",
      "(610, 9737)\n"
     ]
    }
   ],
   "source": [
    "uMatrixTraining = np.zeros((n_users, n_items)) # utility matrix\n",
    "for row in trainData.itertuples():\n",
    "    uMatrixTraining[row[1], row[6]] = row[3]\n",
    "    \n",
    "uMatrixTest = np.zeros((n_users, n_items)) # utility matrix\n",
    "for row in testData.itertuples():\n",
    "    idx = movieId_to_idx[row[2]]\n",
    "    uMatrixTest[row[1], row[6]] = row[3]\n",
    "\n",
    "print(uMatrixTraining.shape)\n",
    "print(uMatrixTest.shape)"
   ]
  },
  {
   "cell_type": "markdown",
   "metadata": {},
   "source": [
    "### user-user"
   ]
  },
  {
   "cell_type": "code",
   "execution_count": 173,
   "metadata": {},
   "outputs": [
    {
     "name": "stdout",
     "output_type": "stream",
     "text": [
      "(610, 610)\n"
     ]
    }
   ],
   "source": [
    "# we use cosine similarity\n",
    "userSimilarity = cosineSimilarity(uMatrixTraining, kind='user')\n",
    "print(userSimilarity.shape)\n",
    "\n",
    "useruserCFpredictions = userSimilarity.dot(uMatrixTraining) / np.array([np.abs(userSimilarity).sum(axis=1)]).T "
   ]
  },
  {
   "cell_type": "code",
   "execution_count": 174,
   "metadata": {},
   "outputs": [],
   "source": [
    "from sklearn.metrics import mean_squared_error\n",
    "\n",
    "def rmse(prediction, ground_truth):\n",
    "    prediction = prediction[ground_truth.nonzero()].flatten() \n",
    "    ground_truth = ground_truth[ground_truth.nonzero()].flatten()\n",
    "    return np.sqrt(mean_squared_error(prediction, ground_truth))"
   ]
  },
  {
   "cell_type": "code",
   "execution_count": 175,
   "metadata": {},
   "outputs": [
    {
     "name": "stdout",
     "output_type": "stream",
     "text": [
      "User-based CF RMSE: 3.249411569692826\n"
     ]
    }
   ],
   "source": [
    "# let's evaluate\n",
    "print('User-based CF RMSE: ' + str(rmse(useruserCFpredictions, uMatrixTest)))"
   ]
  },
  {
   "cell_type": "code",
   "execution_count": 176,
   "metadata": {},
   "outputs": [],
   "source": [
    "meanUserRating = uMatrixTraining.mean(axis=1)\n",
    "\n",
    "ratingsDiff = (uMatrixTraining - meanUserRating[:, np.newaxis]) \n",
    "userItemCFGlobalpredictions = meanUserRating[:, np.newaxis] + userSimilarity.dot(ratingsDiff) / np.array([np.abs(userSimilarity).sum(axis=1)]).T"
   ]
  },
  {
   "cell_type": "code",
   "execution_count": 177,
   "metadata": {},
   "outputs": [
    {
     "name": "stdout",
     "output_type": "stream",
     "text": [
      "User-based CF global baseline RMSE: 3.1692992169204204\n"
     ]
    }
   ],
   "source": [
    "print('User-based CF global baseline RMSE: ' + str(rmse(userItemCFGlobalpredictions, uMatrixTest)))"
   ]
  },
  {
   "cell_type": "markdown",
   "metadata": {},
   "source": [
    "### item-item"
   ]
  },
  {
   "cell_type": "code",
   "execution_count": 178,
   "metadata": {},
   "outputs": [
    {
     "name": "stdout",
     "output_type": "stream",
     "text": [
      "item-based CF RMSE: 3.2437827683142273\n"
     ]
    }
   ],
   "source": [
    "itemItemCFpredictions = uMatrixTraining.dot(itemSimilarity) / np.array([np.abs(itemSimilarity).sum(axis=1)]) \n",
    "\n",
    "print('item-based CF RMSE: ' + str(rmse(itemItemCFpredictions, uMatrixTest)))"
   ]
  },
  {
   "cell_type": "markdown",
   "metadata": {},
   "source": [
    "---\n",
    "<a id='lfm'></a>\n",
    "## 4. Model-based CF or Latent factor models\n",
    "\n",
    "### 4.1 Singular value decomposition\n",
    "\n",
    "CF can be formulated in terms of latent factors by approximating the utility matrix using singular value decomposition (SVD)."
   ]
  },
  {
   "cell_type": "code",
   "execution_count": 180,
   "metadata": {},
   "outputs": [
    {
     "name": "stdout",
     "output_type": "stream",
     "text": [
      "User-based CF MSE: 3.0544188095491758\n"
     ]
    }
   ],
   "source": [
    "import scipy.sparse as sp\n",
    "from scipy.sparse.linalg import svds\n",
    "\n",
    "#get SVD components from train matrix. Choose k.\n",
    "u, s, vt = svds(uMatrixTraining, k = 20)\n",
    "s_diag_matrix=np.diag(s)\n",
    "svdPredictions = np.dot(np.dot(u, s_diag_matrix), vt)\n",
    "print('User-based CF MSE: ' + str(rmse(svdPredictions, uMatrixTest)))"
   ]
  },
  {
   "cell_type": "code",
   "execution_count": 182,
   "metadata": {},
   "outputs": [
    {
     "name": "stdout",
     "output_type": "stream",
     "text": [
      "so, it is expected he/she also likes ... \n",
      " \n",
      "Shawshank Redemption, The (1994)\n",
      "Lord of the Rings: The Return of the King, The (2003)\n",
      "Godfather, The (1972)\n",
      "Schindler's List (1993)\n",
      "One Flew Over the Cuckoo's Nest (1975)\n",
      "Dark Knight, The (2008)\n",
      "Lord of the Rings: The Fellowship of the Ring, The (2001)\n",
      "Beautiful Mind, A (2001)\n",
      "Batman Begins (2005)\n",
      "Shutter Island (2010)\n",
      "Monsters, Inc. (2001)\n"
     ]
    }
   ],
   "source": [
    "queryAnswer = svdPredictions[queryUser,noWatchedMovies]\n",
    "queryAnswer = noWatchedMovies[np.argsort(queryAnswer)[::-1]] #descending order\n",
    "\n",
    "print('so, it is expected he/she also likes ... ')\n",
    "print(' ')\n",
    "\n",
    "printAnswer = queryAnswer[0:11]\n",
    "for answerId in printAnswer:\n",
    "    print(idx_to_title[answerId])"
   ]
  },
  {
   "cell_type": "markdown",
   "metadata": {},
   "source": [
    "### 4.2 Alternating Least Squares (ALS)\n",
    "\n",
    "SVD can be very slow and computationally expensive. Besides, when addressing only the relatively few known entries we are highly prone to overfitting.\n",
    "\n",
    "An scalable alternative to SVD is ALS, which can include regularization terms to prevent overfitting. We will rename our variable to make them more similar to the ALS notation"
   ]
  },
  {
   "cell_type": "code",
   "execution_count": 183,
   "metadata": {},
   "outputs": [],
   "source": [
    "R = uMatrixTraining\n",
    "T = uMatrixTest"
   ]
  },
  {
   "cell_type": "markdown",
   "metadata": {},
   "source": [
    "Now we define a “selector” matrix $I$ for the training utility matrix $R$, which will contain 0 if the rating matrix has no rating entry, and 1 if the rating matrix contains an entry. "
   ]
  },
  {
   "cell_type": "code",
   "execution_count": 184,
   "metadata": {},
   "outputs": [],
   "source": [
    "# Index matrix for training data\n",
    "I = R.copy()\n",
    "I[I > 0] = 1\n",
    "I[I == 0] = 0\n",
    "\n",
    "# Index matrix for test data\n",
    "I2 = T.copy()\n",
    "I2[I2 > 0] = 1\n",
    "I2[I2 == 0] = 0"
   ]
  },
  {
   "cell_type": "markdown",
   "metadata": {},
   "source": [
    "### ALS algorithm\n",
    "\n",
    "The ALS algorithm aims to estimate two unknown matrices which, when multiplied together, yield the rating matrix. The loss function you will use is the well-known sum of squared errors. The second term is for regularisation to prevent overfitting\n",
    "\n",
    "<img src=\"https://latex.codecogs.com/gif.latex?\\underset{Q*&space;,&space;P*}{min}\\sum_{(u,i)\\epsilon&space;K&space;}(r_{ui}-P_u^TQ_i)^2&plus;\\lambda(\\left&space;\\|&space;Q_i&space;\\right&space;\\|^2&space;&plus;&space;\\left&space;\\|&space;P_u&space;\\right&space;\\|^2)$&space;&space;$\" title=\"\\underset{q* , p*}{min}\\sum_{(u,i)\\epsilon K }(r_{ui}-q_i^Tp_u)^2+\\lambda(\\left \\| q_i \\right \\|^2 + \\left \\| p_u \\right \\|^2)\" />"
   ]
  },
  {
   "cell_type": "code",
   "execution_count": 185,
   "metadata": {},
   "outputs": [],
   "source": [
    "def alsRmse(I,R,Q,P):\n",
    "    return np.sqrt(np.sum((I * (R - np.dot(P.T,Q)))**2)/len(R[R > 0]))"
   ]
  },
  {
   "cell_type": "code",
   "execution_count": 186,
   "metadata": {},
   "outputs": [],
   "source": [
    "# Algorithm free parameters\n",
    "lmbda = 0.1     # Regularisation weight\n",
    "k = 20          # Dimensionality of latent feature space\n",
    "m, n = R.shape  # Number of users and items\n",
    "n_epochs = 5   # Number of epochs\n",
    "\n",
    "# Initialization\n",
    "P = 3 * np.random.rand(k,m) # Latent user feature matrix\n",
    "Q = 3 * np.random.rand(k,n) # Latent movie feature matrix\n",
    "Q[0,:] = R[R != 0].mean(axis=0) # Avg. rating for each movie\n",
    "E = np.eye(k) # (k x k)-dimensional idendity matrix"
   ]
  },
  {
   "cell_type": "markdown",
   "metadata": {},
   "source": [
    "This takes a while ...."
   ]
  },
  {
   "cell_type": "code",
   "execution_count": 187,
   "metadata": {},
   "outputs": [
    {
     "name": "stdout",
     "output_type": "stream",
     "text": [
      "[Epoch 1/5] train error: 1.013814, test error: 1.345159\n",
      "[Epoch 2/5] train error: 0.752821, test error: 1.230341\n",
      "[Epoch 3/5] train error: 0.653190, test error: 1.210322\n",
      "[Epoch 4/5] train error: 0.600537, test error: 1.193550\n",
      "[Epoch 5/5] train error: 0.568919, test error: 1.179931\n",
      "Algorithm converged\n"
     ]
    }
   ],
   "source": [
    "train_errors = []\n",
    "test_errors = []\n",
    "\n",
    "# Repeat until convergence\n",
    "for epoch in range(n_epochs):\n",
    "    # Fix Q and estimate P\n",
    "    for i, Ii in enumerate(I):\n",
    "        nui = np.count_nonzero(Ii) # Number of items user i has rated\n",
    "        if (nui == 0): nui = 1 # Be aware of zero counts!\n",
    "    \n",
    "        # Least squares solution\n",
    "        Ai = np.dot(Q, np.dot(np.diag(Ii), Q.T)) + lmbda * nui * E\n",
    "        Vi = np.dot(Q, np.dot(np.diag(Ii), R[i].T))\n",
    "        P[:,i] = np.linalg.solve(Ai,Vi)\n",
    "        \n",
    "    # Fix P and estimate Q\n",
    "    for j, Ij in enumerate(I.T):\n",
    "        nmj = np.count_nonzero(Ij) # Number of users that rated item j\n",
    "        if (nmj == 0): nmj = 1 # Be aware of zero counts!\n",
    "        \n",
    "        # Least squares solution\n",
    "        Aj = np.dot(P, np.dot(np.diag(Ij), P.T)) + lmbda * nmj * E\n",
    "        Vj = np.dot(P, np.dot(np.diag(Ij), R[:,j]))\n",
    "        Q[:,j] = np.linalg.solve(Aj,Vj)\n",
    "    \n",
    "    train_rmse = alsRmse(I,R,Q,P)\n",
    "    test_rmse = alsRmse(I2,T,Q,P)\n",
    "    train_errors.append(train_rmse)\n",
    "    test_errors.append(test_rmse)\n",
    "    \n",
    "    print(\"[Epoch %d/%d] train error: %f, test error: %f\"%(epoch+1, n_epochs, train_rmse, test_rmse))\n",
    "    \n",
    "print(\"Algorithm converged\")"
   ]
  },
  {
   "cell_type": "code",
   "execution_count": 188,
   "metadata": {},
   "outputs": [
    {
     "data": {
      "image/png": "[encoded data removed]",
      "text/plain": [
       "<Figure size 432x288 with 1 Axes>"
      ]
     },
     "metadata": {
      "needs_background": "light"
     },
     "output_type": "display_data"
    }
   ],
   "source": [
    "# Check performance by plotting train and test errors\n",
    "plt.plot(range(n_epochs), train_errors, marker='o', label='Training Data');\n",
    "plt.plot(range(n_epochs), test_errors, marker='v', label='Test Data');\n",
    "plt.title('ALS-WR Learning Curve')\n",
    "plt.xlabel('Number of Epochs');\n",
    "plt.ylabel('RMSE');\n",
    "plt.legend()\n",
    "plt.grid()\n",
    "plt.show()"
   ]
  },
  {
   "cell_type": "markdown",
   "metadata": {},
   "source": [
    "### ALS predictions"
   ]
  },
  {
   "cell_type": "code",
   "execution_count": 190,
   "metadata": {},
   "outputs": [
    {
     "name": "stdout",
     "output_type": "stream",
     "text": [
      "SVD RMSE: 3.0544188095491758\n",
      "ALS RMSE: 1.1799307798721266\n"
     ]
    }
   ],
   "source": [
    "alsPredictions = np.dot(P.T,Q)\n",
    "svdPredictions = np.dot(np.dot(u, s_diag_matrix), vt)\n",
    "\n",
    "print('SVD RMSE: ' + str(rmse(svdPredictions, uMatrixTest)))\n",
    "print('ALS RMSE: ' + str(rmse(alsPredictions, uMatrixTest)))"
   ]
  },
  {
   "cell_type": "code",
   "execution_count": 191,
   "metadata": {},
   "outputs": [
    {
     "name": "stdout",
     "output_type": "stream",
     "text": [
      "so, it is expected he/she also likes ... \n",
      " \n",
      "Dallas Buyers Club (2013)\n",
      "Call Me by Your Name (2017)\n",
      "Calendar Girl (1993)\n",
      "Bottle Rocket (1996)\n",
      "Victoria (2015)\n",
      "Hours, The (2002)\n",
      "All Watched Over by Machines of Loving Grace (2011)\n",
      "All About My Mother (Todo sobre mi madre) (1999)\n",
      "Love & Mercy (2014)\n",
      "Three Colors: Red (Trois couleurs: Rouge) (1994)\n",
      "Jackass Number Two (2006)\n"
     ]
    }
   ],
   "source": [
    "queryAnswer = alsPredictions[queryUser,noWatchedMovies]\n",
    "queryAnswer = noWatchedMovies[np.argsort(queryAnswer)[::-1]] #descending order\n",
    "\n",
    "print('so, it is expected he/she also likes ... ')\n",
    "print(' ')\n",
    "\n",
    "printAnswer = queryAnswer[0:11]\n",
    "for answerId in printAnswer:\n",
    "    print(idx_to_title[answerId])"
   ]
  },
  {
   "cell_type": "markdown",
   "metadata": {},
   "source": [
    "---\n",
    "<a id='exercises'></a>\n",
    "## 5. Exercises (advanced)\n",
    "\n",
    "\n",
    "<div class = \"alert alert-success\">\n",
    "<b>E1:</b> Implement centered cosine similarity metric in Section 3.2\n",
    "</div>\n",
    "\n",
    "<div class = \"alert alert-success\">\n",
    "<b>E2:</b> Implement global baseline biased in 3.2: $b_{ui} = \\mu + b_u + b_i$\n",
    "</div>\n",
    "\n",
    "<div class = \"alert alert-success\">\n",
    "<b>E3:</b> Implement k-neighbors in 3.2\n",
    "</div>"
   ]
  }
 ],
 "metadata": {
  "kernelspec": {
   "display_name": "Python 3",
   "language": "python",
   "name": "python3"
  },
  "language_info": {
   "codemirror_mode": {
    "name": "ipython",
    "version": 3
   },
   "file_extension": ".py",
   "mimetype": "text/x-python",
   "name": "python",
   "nbconvert_exporter": "python",
   "pygments_lexer": "ipython3",
   "version": "3.6.2"
  }
 },
 "nbformat": 4,
 "nbformat_minor": 2
}
